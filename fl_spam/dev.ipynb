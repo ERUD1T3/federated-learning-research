{
 "cells": [
  {
   "cell_type": "markdown",
   "metadata": {},
   "source": [
    "## Developing the artificial benchmark for federated learning spam detection"
   ]
  },
  {
   "cell_type": "markdown",
   "metadata": {},
   "source": [
    "This aims at developing a benchmark for spam email detection using federated learning. The files will be generated\\\n",
    "with their name embedding one of the 2 classification categories: spam and not spam. This benchmark is parameterized to\\\n",
    "be able to quantify the difficulty.\n",
    "\n",
    "### What is the alphabet used?\n",
    "english alphabet and decimal digits abcdefghijklmnopkrstuvwxyz0123456789\\\n",
    "A total of $N = 2^{36}$ possible substrings made from our 36 alphanumeric characters\n",
    "\n",
    "### How are words composed?\n",
    "TODO: figure out a rule structure of the words\n",
    "\n",
    "### How are sentences composed?\n",
    "Sentences will be composed of $m$ words following a defined grammar. For simplicity, we start with \\\n",
    "$m = 3$ words arrange in $noun + verb + noun$ configuration.The configuration is defined by a gammar G.\n",
    "\n",
    "### What is the grammar?\n",
    "Concatenation of the words vectors\n",
    "\n",
    "### How are emails composed?\n",
    "Emails are considered paragraphs made of sentences. An email will be made of $k$ sentences.\n",
    "\n",
    "### How is a spam defined?\n"
   ]
  },
  {
   "cell_type": "code",
   "execution_count": null,
   "metadata": {
    "vscode": {
     "languageId": "plaintext"
    }
   },
   "outputs": [],
   "source": []
  },
  {
   "cell_type": "markdown",
   "metadata": {},
   "source": [
    "## Evaluation on Real Data"
   ]
  }
 ],
 "metadata": {
  "language_info": {
   "name": "python"
  },
  "orig_nbformat": 4
 },
 "nbformat": 4,
 "nbformat_minor": 2
}
