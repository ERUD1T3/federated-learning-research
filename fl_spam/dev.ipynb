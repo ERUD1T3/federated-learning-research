{
 "cells": [
  {
   "cell_type": "markdown",
   "metadata": {},
   "source": [
    "## Developing the artificial benchmark for federated learning spam detection"
   ]
  },
  {
   "cell_type": "markdown",
   "metadata": {},
   "source": [
    "This aims at developing a benchmark for spam email detection using federated learning. The files will be generated\\\n",
    "with their name embedding one of the 2 classification categories: spam and not spam. This benchmark is parameterized to\\\n",
    "be able to quantify the difficulty.\n",
    "\n",
    "### What is the alphabet used?\n",
    "english alphabet\n",
    "\n",
    "### How are words composed?\n",
    "Words are represented by embeddings vectors of length $n$. For simplicity, we start with $n=10$.\n",
    "\n",
    "### How are sentences composed?\n",
    "Sentences will be composed of $m$ words embeddings following a defined grammar. For simplicity, we start with \\\n",
    "$m = 3$ words arrange in $noun + verb + noun$ configuration.The configuration is defined by a gammar G.\n",
    "\n",
    "### What is the grammar?\n",
    "Concatenation of the words vectors\n",
    "\n",
    "### How are emails composed?\n",
    "Emails are considered paragraphs made of sentences. An email will be made of $k$ sentences.\n",
    "\n",
    "### How is a spam defined?\n"
   ]
  },
  {
   "cell_type": "code",
   "execution_count": 86,
   "metadata": {},
   "outputs": [],
   "source": [
    "import numpy as np"
   ]
  },
  {
   "cell_type": "code",
   "execution_count": 87,
   "metadata": {},
   "outputs": [],
   "source": [
    "def gen_embedding(n=10):\n",
    "    '''\n",
    "    Generate a random float vector of length n with values between -1 and 1\n",
    "    '''\n",
    "    res = np.random.rand(n)\n",
    "    res = res * 2 - 1\n",
    "    # convert to list\n",
    "    res = res.tolist()\n",
    "    return res\n"
   ]
  },
  {
   "cell_type": "code",
   "execution_count": 88,
   "metadata": {},
   "outputs": [],
   "source": [
    "def gen_sentence(m=3):\n",
    "    '''\n",
    "    Generate a sentence of length m\n",
    "    '''\n",
    "    return [gen_embedding() for _ in range(m)]\n"
   ]
  },
  {
   "cell_type": "code",
   "execution_count": 89,
   "metadata": {},
   "outputs": [],
   "source": [
    "def gen_paragraph(k=5):\n",
    "    '''\n",
    "    Generate a paragraph of length n\n",
    "    '''\n",
    "    return [gen_sentence() for _ in range(k)]"
   ]
  },
  {
   "cell_type": "code",
   "execution_count": 90,
   "metadata": {},
   "outputs": [],
   "source": [
    "def check_spam(paragraph):\n",
    "    '''\n",
    "    Check if a paragraph is spam\n",
    "    input: paragraph\n",
    "    '''\n",
    "    for sentence in paragraph:\n",
    "        for word in sentence:\n",
    "            if sum(word)/len(word) > .4:\n",
    "                return True\n",
    "    return False"
   ]
  },
  {
   "cell_type": "code",
   "execution_count": 91,
   "metadata": {},
   "outputs": [],
   "source": [
    "def gen_files(n=10):\n",
    "    '''\n",
    "    Generate n files\n",
    "    '''\n",
    "    for i in range(n):\n",
    "        paragraph = gen_paragraph()\n",
    "        is_spam = check_spam(paragraph)\n",
    "        if is_spam:\n",
    "            with open(f'./test/spam_{i}.txt', 'w') as f:\n",
    "                f.write(str(paragraph))\n",
    "                f.write('\\n')\n",
    "        else:\n",
    "            with open(f'./test/email_{i}.txt', 'w') as f:\n",
    "                f.write(str(paragraph))\n",
    "                f.write('\\n')"
   ]
  },
  {
   "cell_type": "code",
   "execution_count": 92,
   "metadata": {},
   "outputs": [],
   "source": [
    "# Generate 20 files\n",
    "gen_files(20)"
   ]
  },
  {
   "cell_type": "markdown",
   "metadata": {},
   "source": [
    "## Evaluation on Real Data"
   ]
  }
 ],
 "metadata": {
  "kernelspec": {
   "display_name": "Python 3.9.12 ('base')",
   "language": "python",
   "name": "python3"
  },
  "language_info": {
   "codemirror_mode": {
    "name": "ipython",
    "version": 3
   },
   "file_extension": ".py",
   "mimetype": "text/x-python",
   "name": "python",
   "nbconvert_exporter": "python",
   "pygments_lexer": "ipython3",
   "version": "3.9.12"
  },
  "orig_nbformat": 4,
  "vscode": {
   "interpreter": {
    "hash": "51ba286c6cbd30d63cfcff9d62d7b82234a5d3b3af599f0b479df11ccf9e9efe"
   }
  }
 },
 "nbformat": 4,
 "nbformat_minor": 2
}
