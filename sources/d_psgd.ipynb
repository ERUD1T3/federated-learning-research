{
 "cells": [
  {
   "attachments": {},
   "cell_type": "markdown",
   "metadata": {},
   "source": [
    "### Implementation of Decentralized Parallel Stochastic Gradient Descent (D-PSGD)"
   ]
  },
  {
   "cell_type": "code",
   "execution_count": 3,
   "metadata": {},
   "outputs": [],
   "source": [
    "# imports\n",
    "\n",
    "import  torch\n",
    "import  torch.nn  as  nn\n",
    "import  torch.nn.functional  as  F\n",
    "import torch.nn.parallel\n",
    "import torch.backends.cudnn  as  cudnn\n",
    "import torch.optim\n",
    "import torch.utils.data\n",
    "import torch.utils.data.distributed\n",
    "import torchvision.transforms  as  transforms\n",
    "import torchvision.datasets  as  datasets\n",
    "import torch.distributed  as  dist"
   ]
  }
 ],
 "metadata": {
  "kernelspec": {
   "display_name": "torch",
   "language": "python",
   "name": "python3"
  },
  "language_info": {
   "codemirror_mode": {
    "name": "ipython",
    "version": 3
   },
   "file_extension": ".py",
   "mimetype": "text/x-python",
   "name": "python",
   "nbconvert_exporter": "python",
   "pygments_lexer": "ipython3",
   "version": "3.10.9"
  },
  "orig_nbformat": 4,
  "vscode": {
   "interpreter": {
    "hash": "06c974918bbad986ff867930ef501a039ceaf6c1665518c0f1176cb4397d8003"
   }
  }
 },
 "nbformat": 4,
 "nbformat_minor": 2
}
