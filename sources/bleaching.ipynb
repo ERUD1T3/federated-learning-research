{
 "cells": [
  {
   "cell_type": "markdown",
   "metadata": {},
   "source": [
    "#### Network of Devices\n"
   ]
  },
  {
   "cell_type": "code",
   "execution_count": null,
   "metadata": {
    "execution": {
     "iopub.execute_input": "2023-01-11T03:50:17.586570Z",
     "iopub.status.busy": "2023-01-11T03:50:17.585868Z",
     "iopub.status.idle": "2023-01-11T03:53:35.249684Z",
     "shell.execute_reply": "2023-01-11T03:53:35.248552Z",
     "shell.execute_reply.started": "2023-01-11T03:50:17.586533Z"
    }
   },
   "outputs": [],
   "source": [
    "# unzip the /data/bleaching.zip dataset\n",
    "# !unzip -q ./data/bleaching.zip"
   ]
  },
  {
   "cell_type": "code",
   "execution_count": 3,
   "metadata": {},
   "outputs": [],
   "source": [
    "%matplotlib inline\n",
    "import matplotlib.pyplot as plt\n",
    "import networkx as nx\n",
    "from itertools import combinations\n",
    "from random import random\n",
    "# from scipy.stats import powerlaw\n",
    "import os\n",
    "import numpy as np"
   ]
  },
  {
   "cell_type": "code",
   "execution_count": null,
   "metadata": {},
   "outputs": [],
   "source": [
    "# create a network\n",
    "network = Network()\n",
    "# print the network\n",
    "print(network)\n",
    "# plot the network\n",
    "network.plot()\n",
    "# simulate the network\n",
    "# network.simulate()\n"
   ]
  },
  {
   "cell_type": "code",
   "execution_count": null,
   "metadata": {},
   "outputs": [],
   "source": [
    "import pandas as pd\n",
    "import numpy as np\n",
    "import matplotlib.pyplot as plt\n",
    "import csv"
   ]
  },
  {
   "cell_type": "code",
   "execution_count": null,
   "metadata": {},
   "outputs": [],
   "source": [
    "# read csv file into a dataframe\n",
    "# df = pd.read_csv('data/bleaching.csv')"
   ]
  },
  {
   "cell_type": "code",
   "execution_count": null,
   "metadata": {},
   "outputs": [],
   "source": [
    "def get_gen(file_path):\n",
    "    '''\n",
    "        Read a file path and return a generator\n",
    "        Input: file_path\n",
    "        Output: generator    \n",
    "    '''\n",
    "\n",
    "    # open the csv file\n",
    "    with open(file_path, 'r') as f:\n",
    "        # create a csv reader\n",
    "        csv_reader = csv.reader(f)\n",
    "        # iterate through the rows\n",
    "        for row in csv_reader:\n",
    "            # yield the row\n",
    "            yield row\n"
   ]
  },
  {
   "cell_type": "code",
   "execution_count": null,
   "metadata": {},
   "outputs": [],
   "source": [
    "# read the data directory file\n",
    "dir_path = 'data/bleaching/'\n",
    "# files \n",
    "sites = []\n",
    "# loop through all the files in the directory\n",
    "for f in os.listdir(dir_path):\n",
    "    # get the file path\n",
    "    file_path = os.path.join(dir_path, f)\n",
    "    # read the file into a generator\n",
    "    gen = get_gen(file_path)\n",
    "    # add the generator to the list\n",
    "    sites.append(gen)\n",
    "# create node with \n"
   ]
  },
  {
   "cell_type": "code",
   "execution_count": null,
   "metadata": {},
   "outputs": [],
   "source": [
    "# create a node for every site and add the site data to the node\n",
    "nodes = {}\n",
    "for site in sites:\n",
    "    # get the site id\n",
    "    site_content = next(site)\n",
    "    site_id = site_content[0]\n",
    "    # get the site data\n",
    "    site_data = site_content[1:]\n",
    "    # create a node for the site\n",
    "    node = Node(site_id, site_data)\n",
    "\n",
    "    # add the node to the nodes dictionary\n",
    "    nodes[site_id] = node\n",
    "\n",
    "\n",
    "# print a node\n",
    "print(nodes[1].data.head())"
   ]
  },
  {
   "cell_type": "code",
   "execution_count": null,
   "metadata": {},
   "outputs": [],
   "source": [
    "\n",
    "# TODO: create a network where each node is connected to its neighboring sites and weight the edges by distance\n",
    "network = Network(nodes)\n",
    "# print the network\n",
    "print(network)\n",
    "# plot the network\n",
    "network.plot()"
   ]
  },
  {
   "cell_type": "code",
   "execution_count": null,
   "metadata": {},
   "outputs": [],
   "source": [
    "# multi layer perceptron model"
   ]
  }
 ],
 "metadata": {
  "kernelspec": {
   "display_name": "torch",
   "language": "python",
   "name": "python3"
  },
  "language_info": {
   "codemirror_mode": {
    "name": "ipython",
    "version": 3
   },
   "file_extension": ".py",
   "mimetype": "text/x-python",
   "name": "python",
   "nbconvert_exporter": "python",
   "pygments_lexer": "ipython3",
   "version": "3.9.16"
  },
  "vscode": {
   "interpreter": {
    "hash": "f3b09f0dae079356b11e2992c8ce1698bd60fda55aea4c87f004ec164747e9c6"
   }
  }
 },
 "nbformat": 4,
 "nbformat_minor": 4
}
