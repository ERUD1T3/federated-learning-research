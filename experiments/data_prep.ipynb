{
 "cells": [
  {
   "cell_type": "code",
   "execution_count": 1,
   "outputs": [],
   "source": [
    "# import libraries\n",
    "import pandas as pd\n",
    "import numpy as np\n",
    "import matplotlib.pyplot as plt\n",
    "\n",
    "# imputation modules\n",
    "from sklearn.compose import ColumnTransformer\n",
    "from sklearn.pipeline import Pipeline\n",
    "from sklearn.ensemble import RandomForestClassifier, RandomForestRegressor\n",
    "from sklearn.experimental import enable_iterative_imputer\n",
    "from sklearn.impute import IterativeImputer\n",
    "from sklearn.preprocessing import StandardScaler, OrdinalEncoder"
   ],
   "metadata": {
    "collapsed": false,
    "ExecuteTime": {
     "start_time": "2023-04-26T08:48:42.493504Z",
     "end_time": "2023-04-26T08:48:43.974425Z"
    }
   }
  },
  {
   "cell_type": "code",
   "execution_count": 2,
   "metadata": {
    "collapsed": true,
    "ExecuteTime": {
     "start_time": "2023-04-26T08:48:43.972427Z",
     "end_time": "2023-04-26T08:48:43.976424Z"
    }
   },
   "outputs": [],
   "source": [
    "# dataset path!\n",
    "dataset_path = '../datasets/bleaching/clean_bleaching.csv'"
   ]
  },
  {
   "cell_type": "code",
   "execution_count": 3,
   "outputs": [],
   "source": [
    "# read dataset\n",
    "df = pd.read_csv(dataset_path)"
   ],
   "metadata": {
    "collapsed": false,
    "ExecuteTime": {
     "start_time": "2023-04-26T08:48:43.974425Z",
     "end_time": "2023-04-26T08:48:44.243138Z"
    }
   }
  },
  {
   "cell_type": "code",
   "execution_count": 4,
   "outputs": [
    {
     "data": {
      "text/plain": "   Site_ID Data_Source  Latitude_Degrees  Longitude_Degrees Ocean_Name  \\\n0        1      Donner            -14.28           -170.715    Pacific   \n1        2      Donner            -14.33           -170.500    Pacific   \n2        2      Donner            -14.33           -170.500    Pacific   \n3        2      Donner            -14.33           -170.500    Pacific   \n4        2      Donner            -14.33           -170.500    Pacific   \n\n             Realm_Name   Country_Name  Distance_to_Shore   Exposure  \\\n0  Eastern Indo-Pacific  United States             105.68  Sheltered   \n1  Eastern Indo-Pacific  United States            6923.20    Exposed   \n2  Eastern Indo-Pacific  United States            6923.20    Exposed   \n3  Eastern Indo-Pacific  United States            6923.20    Exposed   \n4  Eastern Indo-Pacific  United States            6923.20    Exposed   \n\n   Turbidity  ...  TSA_Maximum  TSA_Mean  TSA_Frequency  \\\n0     0.0245  ...        2.458    -0.752            1.0   \n1     0.0251  ...        2.330    -0.850            1.0   \n2     0.0251  ...        2.330    -0.850            1.0   \n3     0.0251  ...        2.330    -0.850            1.0   \n4     0.0251  ...        2.330    -0.850            0.0   \n\n   TSA_Frequency_Standard_Deviation TSA_FrequencyMax  TSA_FrequencyMean  \\\n0                             2.238             11.4                1.0   \n1                             1.520              8.0                1.0   \n2                             1.520              8.0                1.0   \n3                             1.520              8.0                1.0   \n4                             1.520              8.0                1.0   \n\n  TSA_DHW  TSA_DHW_Standard_Deviation  TSA_DHWMax  TSA_DHWMean  \n0    0.00                       1.428       9.594        0.564  \n1    0.00                       0.960       8.090        0.340  \n2    0.00                       0.960       8.090        0.340  \n3    1.57                       0.960       8.090        0.340  \n4    0.00                       0.960       8.090        0.340  \n\n[5 rows x 51 columns]",
      "text/html": "<div>\n<style scoped>\n    .dataframe tbody tr th:only-of-type {\n        vertical-align: middle;\n    }\n\n    .dataframe tbody tr th {\n        vertical-align: top;\n    }\n\n    .dataframe thead th {\n        text-align: right;\n    }\n</style>\n<table border=\"1\" class=\"dataframe\">\n  <thead>\n    <tr style=\"text-align: right;\">\n      <th></th>\n      <th>Site_ID</th>\n      <th>Data_Source</th>\n      <th>Latitude_Degrees</th>\n      <th>Longitude_Degrees</th>\n      <th>Ocean_Name</th>\n      <th>Realm_Name</th>\n      <th>Country_Name</th>\n      <th>Distance_to_Shore</th>\n      <th>Exposure</th>\n      <th>Turbidity</th>\n      <th>...</th>\n      <th>TSA_Maximum</th>\n      <th>TSA_Mean</th>\n      <th>TSA_Frequency</th>\n      <th>TSA_Frequency_Standard_Deviation</th>\n      <th>TSA_FrequencyMax</th>\n      <th>TSA_FrequencyMean</th>\n      <th>TSA_DHW</th>\n      <th>TSA_DHW_Standard_Deviation</th>\n      <th>TSA_DHWMax</th>\n      <th>TSA_DHWMean</th>\n    </tr>\n  </thead>\n  <tbody>\n    <tr>\n      <th>0</th>\n      <td>1</td>\n      <td>Donner</td>\n      <td>-14.28</td>\n      <td>-170.715</td>\n      <td>Pacific</td>\n      <td>Eastern Indo-Pacific</td>\n      <td>United States</td>\n      <td>105.68</td>\n      <td>Sheltered</td>\n      <td>0.0245</td>\n      <td>...</td>\n      <td>2.458</td>\n      <td>-0.752</td>\n      <td>1.0</td>\n      <td>2.238</td>\n      <td>11.4</td>\n      <td>1.0</td>\n      <td>0.00</td>\n      <td>1.428</td>\n      <td>9.594</td>\n      <td>0.564</td>\n    </tr>\n    <tr>\n      <th>1</th>\n      <td>2</td>\n      <td>Donner</td>\n      <td>-14.33</td>\n      <td>-170.500</td>\n      <td>Pacific</td>\n      <td>Eastern Indo-Pacific</td>\n      <td>United States</td>\n      <td>6923.20</td>\n      <td>Exposed</td>\n      <td>0.0251</td>\n      <td>...</td>\n      <td>2.330</td>\n      <td>-0.850</td>\n      <td>1.0</td>\n      <td>1.520</td>\n      <td>8.0</td>\n      <td>1.0</td>\n      <td>0.00</td>\n      <td>0.960</td>\n      <td>8.090</td>\n      <td>0.340</td>\n    </tr>\n    <tr>\n      <th>2</th>\n      <td>2</td>\n      <td>Donner</td>\n      <td>-14.33</td>\n      <td>-170.500</td>\n      <td>Pacific</td>\n      <td>Eastern Indo-Pacific</td>\n      <td>United States</td>\n      <td>6923.20</td>\n      <td>Exposed</td>\n      <td>0.0251</td>\n      <td>...</td>\n      <td>2.330</td>\n      <td>-0.850</td>\n      <td>1.0</td>\n      <td>1.520</td>\n      <td>8.0</td>\n      <td>1.0</td>\n      <td>0.00</td>\n      <td>0.960</td>\n      <td>8.090</td>\n      <td>0.340</td>\n    </tr>\n    <tr>\n      <th>3</th>\n      <td>2</td>\n      <td>Donner</td>\n      <td>-14.33</td>\n      <td>-170.500</td>\n      <td>Pacific</td>\n      <td>Eastern Indo-Pacific</td>\n      <td>United States</td>\n      <td>6923.20</td>\n      <td>Exposed</td>\n      <td>0.0251</td>\n      <td>...</td>\n      <td>2.330</td>\n      <td>-0.850</td>\n      <td>1.0</td>\n      <td>1.520</td>\n      <td>8.0</td>\n      <td>1.0</td>\n      <td>1.57</td>\n      <td>0.960</td>\n      <td>8.090</td>\n      <td>0.340</td>\n    </tr>\n    <tr>\n      <th>4</th>\n      <td>2</td>\n      <td>Donner</td>\n      <td>-14.33</td>\n      <td>-170.500</td>\n      <td>Pacific</td>\n      <td>Eastern Indo-Pacific</td>\n      <td>United States</td>\n      <td>6923.20</td>\n      <td>Exposed</td>\n      <td>0.0251</td>\n      <td>...</td>\n      <td>2.330</td>\n      <td>-0.850</td>\n      <td>0.0</td>\n      <td>1.520</td>\n      <td>8.0</td>\n      <td>1.0</td>\n      <td>0.00</td>\n      <td>0.960</td>\n      <td>8.090</td>\n      <td>0.340</td>\n    </tr>\n  </tbody>\n</table>\n<p>5 rows × 51 columns</p>\n</div>"
     },
     "execution_count": 4,
     "metadata": {},
     "output_type": "execute_result"
    }
   ],
   "source": [
    "# check dataset\n",
    "df.head()"
   ],
   "metadata": {
    "collapsed": false,
    "ExecuteTime": {
     "start_time": "2023-04-26T08:48:44.251346Z",
     "end_time": "2023-04-26T08:48:44.300846Z"
    }
   }
  },
  {
   "cell_type": "code",
   "execution_count": 14,
   "outputs": [],
   "source": [
    "# ways to clean the dataset\n",
    "# 1. drop rows with missing values\n",
    "\n",
    "def drop_missing_values(df):\n",
    "    \"\"\"\n",
    "    Drop rows with missing values\n",
    "    :param df: dataframe\n",
    "    :return: dataframe\n",
    "    \"\"\"\n",
    "    # drop rows with missing values\n",
    "    df.dropna(inplace=True)\n",
    "    # summarize the number of rows and columns in the dataset\n",
    "    print(df.shape)\n",
    "    # summarize the number of rows with missing values for each column\n",
    "    print(df.isnull().sum())\n",
    "    # write to csv \"../datasets/bleaching/trunc_bleaching.csv\"\n",
    "    df.to_csv('../datasets/bleaching/trunc_bleaching.csv', index=False)\n",
    "\n",
    "    return df\n"
   ],
   "metadata": {
    "collapsed": false,
    "ExecuteTime": {
     "start_time": "2023-04-24T00:53:17.094910Z",
     "end_time": "2023-04-24T00:53:17.114413Z"
    }
   }
  },
  {
   "cell_type": "code",
   "execution_count": 15,
   "outputs": [],
   "source": [
    "#2. replace values with the most frequent value in the column\n",
    "\n",
    "def replace_missing_values(df):\n",
    "    \"\"\"\n",
    "    Replace missing values with the most frequent value in the column\n",
    "    :param df: dataframe\n",
    "    :return: dataframe\n",
    "    \"\"\"\n",
    "    # fill missing values with the most frequent value in the column\n",
    "    df.fillna(df.mode().iloc[0], inplace=True)\n",
    "    # summarize the number of rows and columns in the dataset\n",
    "    print(df.shape)\n",
    "    # summarize the number of rows with missing values for each column\n",
    "    print(df.isnull().sum())\n",
    "    # write to csv \"../datasets/bleaching/trunc_bleaching.csv\"\n",
    "    df.to_csv('../datasets/bleaching/freq_bleaching.csv', index=False)\n",
    "\n",
    "    return df\n"
   ],
   "metadata": {
    "collapsed": false,
    "ExecuteTime": {
     "start_time": "2023-04-24T00:53:17.111416Z",
     "end_time": "2023-04-24T00:53:17.119913Z"
    }
   }
  },
  {
   "cell_type": "code",
   "execution_count": 5,
   "outputs": [],
   "source": [
    "#3. replacing missing categorical values with a neutral value and missing numerical values with the mean\n",
    "\n",
    "def neutralize_missing_values(df: pd.DataFrame):\n",
    "    \"\"\"\n",
    "    Replacing missing categorical values with a neutral value and missing numerical values with infinity.\n",
    "    Adds a new column for each existing column, indicating whether the value in the corresponding\n",
    "    original column is NaN or not.\n",
    "    :param df: dataframe\n",
    "    :return: dataframe\n",
    "    \"\"\"\n",
    "    # Identify numerical and categorical columns\n",
    "    num_cols = df.select_dtypes(include=np.number).columns\n",
    "    cat_cols = df.select_dtypes(include=['object', 'category']).columns\n",
    "\n",
    "    # Fill missing categorical values with a neutral value\n",
    "    # df[cat_cols] = df[cat_cols].fillna('missing')\n",
    "\n",
    "    # Fill missing numerical values with infinity\n",
    "    # df[num_cols] = df[num_cols].fillna(np.inf)\n",
    "\n",
    "    # Add a new column for each existing column, indicating whether the value in the corresponding\n",
    "    # original column is NaN or not\n",
    "    for col in df.columns:\n",
    "        df.insert(df.columns.get_loc(col), f'{col}_isna', df[col].apply(lambda x: 0 if pd.isna(x) else 1))\n",
    "\n",
    "    # Summarize the number of rows and columns in the dataset\n",
    "    print(df.shape)\n",
    "\n",
    "    # Summarize the number of rows with missing values for each column\n",
    "    print(df.isnull().sum())\n",
    "\n",
    "    # Write to CSV \"../datasets/bleaching/neutral_bleaching.csv\"\n",
    "    df.to_csv('../datasets/bleaching/neutral_bleaching.csv', index=False)\n",
    "\n",
    "    return df\n",
    "\n",
    "\n"
   ],
   "metadata": {
    "collapsed": false,
    "ExecuteTime": {
     "start_time": "2023-04-26T08:48:44.274346Z",
     "end_time": "2023-04-26T08:48:44.318344Z"
    }
   }
  },
  {
   "cell_type": "code",
   "execution_count": 43,
   "outputs": [],
   "source": [
    "#4. impuation with sklearn\n",
    "\n",
    "def impute_missing_values(df):\n",
    "    \"\"\"\n",
    "    Impute missing values for numerical and categorical features\n",
    "    :param df: dataframe\n",
    "    :return: dataframe\n",
    "    \"\"\"\n",
    "     # Identify numerical and categorical columns\n",
    "    num_cols = df.select_dtypes(include=np.number).columns.tolist()\n",
    "    cat_cols = df.select_dtypes(include=['object', 'category']).columns.tolist()\n",
    "\n",
    "    # Impute numerical columns\n",
    "    num_imputer = IterativeImputer(estimator=RandomForestRegressor(random_state=0), random_state=0)\n",
    "    num_imputed = num_imputer.fit_transform(df[num_cols])\n",
    "    df[num_cols] = num_imputed\n",
    "\n",
    "    # Impute categorical columns\n",
    "    cat_df = df[cat_cols].apply(lambda x: x.astype('category'))\n",
    "    cat_enc = cat_df.apply(lambda x: x.cat.codes)\n",
    "    cat_imputer = IterativeImputer(estimator=RandomForestClassifier(random_state=0), random_state=0)\n",
    "    cat_imputed = cat_imputer.fit_transform(cat_enc)\n",
    "    cat_decoded = pd.DataFrame(cat_imputed, columns=cat_cols).apply(lambda x: x.round().astype(int))\n",
    "    cat_decoded = cat_decoded.apply(lambda x: pd.Categorical.from_codes(x, categories=cat_df[x.name].cat.categories))\n",
    "    df[cat_cols] = cat_decoded\n",
    "\n",
    "    # Write the imputed DataFrame to a CSV file\n",
    "    df.to_csv('../datasets/bleaching/impute_bleaching.csv', index=False)\n",
    "\n",
    "    return df"
   ],
   "metadata": {
    "collapsed": false,
    "ExecuteTime": {
     "start_time": "2023-04-24T08:23:48.665393Z",
     "end_time": "2023-04-24T08:23:48.711300Z"
    }
   }
  },
  {
   "cell_type": "code",
   "execution_count": 0,
   "outputs": [],
   "source": [
    "# run the functions\n",
    "\n",
    "# drop missing values\n",
    "original_df = df.copy()\n",
    "drop_missing_values(original_df)"
   ],
   "metadata": {
    "collapsed": false,
    "ExecuteTime": {
     "start_time": "2023-04-24T01:10:41.426080Z",
     "end_time": "2023-04-24T01:10:45.071190Z"
    }
   }
  },
  {
   "cell_type": "code",
   "execution_count": 0,
   "outputs": [],
   "source": [
    "\n",
    "# replace missing values\n",
    "original_df = df.copy()\n",
    "replace_missing_values(original_df)"
   ],
   "metadata": {
    "collapsed": false
   }
  },
  {
   "cell_type": "code",
   "execution_count": 6,
   "outputs": [
    {
     "name": "stdout",
     "output_type": "stream",
     "text": [
      "(37447, 102)\n",
      "Site_ID_isna                    0\n",
      "Site_ID                         0\n",
      "Data_Source_isna                0\n",
      "Data_Source                     0\n",
      "Latitude_Degrees_isna           0\n",
      "                             ... \n",
      "TSA_DHW_Standard_Deviation    109\n",
      "TSA_DHWMax_isna                 0\n",
      "TSA_DHWMax                    109\n",
      "TSA_DHWMean_isna                0\n",
      "TSA_DHWMean                   109\n",
      "Length: 102, dtype: int64\n"
     ]
    },
    {
     "data": {
      "text/plain": "       Site_ID_isna  Site_ID  Data_Source_isna Data_Source  \\\n0                 1        1                 1      Donner   \n1                 1        2                 1      Donner   \n2                 1        2                 1      Donner   \n3                 1        2                 1      Donner   \n4                 1        2                 1      Donner   \n...             ...      ...               ...         ...   \n37442             1  1000056                 1     Nuryana   \n37443             1  1000057                 1    Setiawan   \n37444             1  1000058                 1    Setiawan   \n37445             1  1000059                 1    Setiawan   \n37446             1  1000060                 1    Setiawan   \n\n       Latitude_Degrees_isna  Latitude_Degrees  Longitude_Degrees_isna  \\\n0                          1        -14.280000                       1   \n1                          1        -14.330000                       1   \n2                          1        -14.330000                       1   \n3                          1        -14.330000                       1   \n4                          1        -14.330000                       1   \n...                      ...               ...                     ...   \n37442                      1         -8.276040                       1   \n37443                      1         -8.362170                       1   \n37444                      1         -8.343690                       1   \n37445                      1         -8.362521                       1   \n37446                      1         -8.357130                       1   \n\n       Longitude_Degrees  Ocean_Name_isna Ocean_Name  ...  \\\n0            -170.715000                1    Pacific  ...   \n1            -170.500000                1    Pacific  ...   \n2            -170.500000                1    Pacific  ...   \n3            -170.500000                1    Pacific  ...   \n4            -170.500000                1    Pacific  ...   \n...                  ...              ...        ...  ...   \n37442         115.593200                1     Indian  ...   \n37443         116.088210                1    Pacific  ...   \n37444         116.050590                1    Pacific  ...   \n37445         116.031430                1    Pacific  ...   \n37446         116.123989                1    Pacific  ...   \n\n       TSA_FrequencyMean_isna TSA_FrequencyMean  TSA_DHW_isna TSA_DHW  \\\n0                           1               1.0             1    0.00   \n1                           1               1.0             1    0.00   \n2                           1               1.0             1    0.00   \n3                           1               1.0             1    1.57   \n4                           1               1.0             1    0.00   \n...                       ...               ...           ...     ...   \n37442                       1               1.0             1    0.00   \n37443                       1               1.0             1    1.78   \n37444                       1               1.0             1    5.47   \n37445                       1               1.0             1    5.47   \n37446                       1               1.0             1    7.10   \n\n       TSA_DHW_Standard_Deviation_isna  TSA_DHW_Standard_Deviation  \\\n0                                    1                      1.4280   \n1                                    1                      0.9600   \n2                                    1                      0.9600   \n3                                    1                      0.9600   \n4                                    1                      0.9600   \n...                                ...                         ...   \n37442                                1                      1.7700   \n37443                                1                      1.4900   \n37444                                1                      1.2900   \n37445                                1                      1.2900   \n37446                                1                      1.3525   \n\n       TSA_DHWMax_isna TSA_DHWMax  TSA_DHWMean_isna  TSA_DHWMean  \n0                    1     9.5940                 1       0.5640  \n1                    1     8.0900                 1       0.3400  \n2                    1     8.0900                 1       0.3400  \n3                    1     8.0900                 1       0.3400  \n4                    1     8.0900                 1       0.3400  \n...                ...        ...               ...          ...  \n37442                1    23.6400                 1       0.3900  \n37443                1     9.0000                 1       0.6300  \n37444                1     8.0100                 1       0.6500  \n37445                1     8.0100                 1       0.6500  \n37446                1    10.6375                 1       0.5975  \n\n[37447 rows x 102 columns]",
      "text/html": "<div>\n<style scoped>\n    .dataframe tbody tr th:only-of-type {\n        vertical-align: middle;\n    }\n\n    .dataframe tbody tr th {\n        vertical-align: top;\n    }\n\n    .dataframe thead th {\n        text-align: right;\n    }\n</style>\n<table border=\"1\" class=\"dataframe\">\n  <thead>\n    <tr style=\"text-align: right;\">\n      <th></th>\n      <th>Site_ID_isna</th>\n      <th>Site_ID</th>\n      <th>Data_Source_isna</th>\n      <th>Data_Source</th>\n      <th>Latitude_Degrees_isna</th>\n      <th>Latitude_Degrees</th>\n      <th>Longitude_Degrees_isna</th>\n      <th>Longitude_Degrees</th>\n      <th>Ocean_Name_isna</th>\n      <th>Ocean_Name</th>\n      <th>...</th>\n      <th>TSA_FrequencyMean_isna</th>\n      <th>TSA_FrequencyMean</th>\n      <th>TSA_DHW_isna</th>\n      <th>TSA_DHW</th>\n      <th>TSA_DHW_Standard_Deviation_isna</th>\n      <th>TSA_DHW_Standard_Deviation</th>\n      <th>TSA_DHWMax_isna</th>\n      <th>TSA_DHWMax</th>\n      <th>TSA_DHWMean_isna</th>\n      <th>TSA_DHWMean</th>\n    </tr>\n  </thead>\n  <tbody>\n    <tr>\n      <th>0</th>\n      <td>1</td>\n      <td>1</td>\n      <td>1</td>\n      <td>Donner</td>\n      <td>1</td>\n      <td>-14.280000</td>\n      <td>1</td>\n      <td>-170.715000</td>\n      <td>1</td>\n      <td>Pacific</td>\n      <td>...</td>\n      <td>1</td>\n      <td>1.0</td>\n      <td>1</td>\n      <td>0.00</td>\n      <td>1</td>\n      <td>1.4280</td>\n      <td>1</td>\n      <td>9.5940</td>\n      <td>1</td>\n      <td>0.5640</td>\n    </tr>\n    <tr>\n      <th>1</th>\n      <td>1</td>\n      <td>2</td>\n      <td>1</td>\n      <td>Donner</td>\n      <td>1</td>\n      <td>-14.330000</td>\n      <td>1</td>\n      <td>-170.500000</td>\n      <td>1</td>\n      <td>Pacific</td>\n      <td>...</td>\n      <td>1</td>\n      <td>1.0</td>\n      <td>1</td>\n      <td>0.00</td>\n      <td>1</td>\n      <td>0.9600</td>\n      <td>1</td>\n      <td>8.0900</td>\n      <td>1</td>\n      <td>0.3400</td>\n    </tr>\n    <tr>\n      <th>2</th>\n      <td>1</td>\n      <td>2</td>\n      <td>1</td>\n      <td>Donner</td>\n      <td>1</td>\n      <td>-14.330000</td>\n      <td>1</td>\n      <td>-170.500000</td>\n      <td>1</td>\n      <td>Pacific</td>\n      <td>...</td>\n      <td>1</td>\n      <td>1.0</td>\n      <td>1</td>\n      <td>0.00</td>\n      <td>1</td>\n      <td>0.9600</td>\n      <td>1</td>\n      <td>8.0900</td>\n      <td>1</td>\n      <td>0.3400</td>\n    </tr>\n    <tr>\n      <th>3</th>\n      <td>1</td>\n      <td>2</td>\n      <td>1</td>\n      <td>Donner</td>\n      <td>1</td>\n      <td>-14.330000</td>\n      <td>1</td>\n      <td>-170.500000</td>\n      <td>1</td>\n      <td>Pacific</td>\n      <td>...</td>\n      <td>1</td>\n      <td>1.0</td>\n      <td>1</td>\n      <td>1.57</td>\n      <td>1</td>\n      <td>0.9600</td>\n      <td>1</td>\n      <td>8.0900</td>\n      <td>1</td>\n      <td>0.3400</td>\n    </tr>\n    <tr>\n      <th>4</th>\n      <td>1</td>\n      <td>2</td>\n      <td>1</td>\n      <td>Donner</td>\n      <td>1</td>\n      <td>-14.330000</td>\n      <td>1</td>\n      <td>-170.500000</td>\n      <td>1</td>\n      <td>Pacific</td>\n      <td>...</td>\n      <td>1</td>\n      <td>1.0</td>\n      <td>1</td>\n      <td>0.00</td>\n      <td>1</td>\n      <td>0.9600</td>\n      <td>1</td>\n      <td>8.0900</td>\n      <td>1</td>\n      <td>0.3400</td>\n    </tr>\n    <tr>\n      <th>...</th>\n      <td>...</td>\n      <td>...</td>\n      <td>...</td>\n      <td>...</td>\n      <td>...</td>\n      <td>...</td>\n      <td>...</td>\n      <td>...</td>\n      <td>...</td>\n      <td>...</td>\n      <td>...</td>\n      <td>...</td>\n      <td>...</td>\n      <td>...</td>\n      <td>...</td>\n      <td>...</td>\n      <td>...</td>\n      <td>...</td>\n      <td>...</td>\n      <td>...</td>\n      <td>...</td>\n    </tr>\n    <tr>\n      <th>37442</th>\n      <td>1</td>\n      <td>1000056</td>\n      <td>1</td>\n      <td>Nuryana</td>\n      <td>1</td>\n      <td>-8.276040</td>\n      <td>1</td>\n      <td>115.593200</td>\n      <td>1</td>\n      <td>Indian</td>\n      <td>...</td>\n      <td>1</td>\n      <td>1.0</td>\n      <td>1</td>\n      <td>0.00</td>\n      <td>1</td>\n      <td>1.7700</td>\n      <td>1</td>\n      <td>23.6400</td>\n      <td>1</td>\n      <td>0.3900</td>\n    </tr>\n    <tr>\n      <th>37443</th>\n      <td>1</td>\n      <td>1000057</td>\n      <td>1</td>\n      <td>Setiawan</td>\n      <td>1</td>\n      <td>-8.362170</td>\n      <td>1</td>\n      <td>116.088210</td>\n      <td>1</td>\n      <td>Pacific</td>\n      <td>...</td>\n      <td>1</td>\n      <td>1.0</td>\n      <td>1</td>\n      <td>1.78</td>\n      <td>1</td>\n      <td>1.4900</td>\n      <td>1</td>\n      <td>9.0000</td>\n      <td>1</td>\n      <td>0.6300</td>\n    </tr>\n    <tr>\n      <th>37444</th>\n      <td>1</td>\n      <td>1000058</td>\n      <td>1</td>\n      <td>Setiawan</td>\n      <td>1</td>\n      <td>-8.343690</td>\n      <td>1</td>\n      <td>116.050590</td>\n      <td>1</td>\n      <td>Pacific</td>\n      <td>...</td>\n      <td>1</td>\n      <td>1.0</td>\n      <td>1</td>\n      <td>5.47</td>\n      <td>1</td>\n      <td>1.2900</td>\n      <td>1</td>\n      <td>8.0100</td>\n      <td>1</td>\n      <td>0.6500</td>\n    </tr>\n    <tr>\n      <th>37445</th>\n      <td>1</td>\n      <td>1000059</td>\n      <td>1</td>\n      <td>Setiawan</td>\n      <td>1</td>\n      <td>-8.362521</td>\n      <td>1</td>\n      <td>116.031430</td>\n      <td>1</td>\n      <td>Pacific</td>\n      <td>...</td>\n      <td>1</td>\n      <td>1.0</td>\n      <td>1</td>\n      <td>5.47</td>\n      <td>1</td>\n      <td>1.2900</td>\n      <td>1</td>\n      <td>8.0100</td>\n      <td>1</td>\n      <td>0.6500</td>\n    </tr>\n    <tr>\n      <th>37446</th>\n      <td>1</td>\n      <td>1000060</td>\n      <td>1</td>\n      <td>Setiawan</td>\n      <td>1</td>\n      <td>-8.357130</td>\n      <td>1</td>\n      <td>116.123989</td>\n      <td>1</td>\n      <td>Pacific</td>\n      <td>...</td>\n      <td>1</td>\n      <td>1.0</td>\n      <td>1</td>\n      <td>7.10</td>\n      <td>1</td>\n      <td>1.3525</td>\n      <td>1</td>\n      <td>10.6375</td>\n      <td>1</td>\n      <td>0.5975</td>\n    </tr>\n  </tbody>\n</table>\n<p>37447 rows × 102 columns</p>\n</div>"
     },
     "execution_count": 6,
     "metadata": {},
     "output_type": "execute_result"
    }
   ],
   "source": [
    "\n",
    "# neutralize missing values\n",
    "original_df = df.copy()\n",
    "neutralize_missing_values(original_df)"
   ],
   "metadata": {
    "collapsed": false,
    "ExecuteTime": {
     "start_time": "2023-04-26T08:48:47.695915Z",
     "end_time": "2023-04-26T08:48:50.014777Z"
    }
   }
  },
  {
   "cell_type": "code",
   "execution_count": 44,
   "outputs": [
    {
     "data": {
      "text/plain": "         Site_ID Data_Source  Latitude_Degrees  Longitude_Degrees Ocean_Name  \\\n0            1.0      Donner        -14.280000        -170.715000    Pacific   \n1            2.0      Donner        -14.330000        -170.500000    Pacific   \n2            2.0      Donner        -14.330000        -170.500000    Pacific   \n3            2.0      Donner        -14.330000        -170.500000    Pacific   \n4            2.0      Donner        -14.330000        -170.500000    Pacific   \n...          ...         ...               ...                ...        ...   \n37442  1000056.0     Nuryana         -8.276040         115.593200     Indian   \n37443  1000057.0    Setiawan         -8.362170         116.088210    Pacific   \n37444  1000058.0    Setiawan         -8.343690         116.050590    Pacific   \n37445  1000059.0    Setiawan         -8.362521         116.031430    Pacific   \n37446  1000060.0    Setiawan         -8.357130         116.123989    Pacific   \n\n                 Realm_Name   Country_Name  Distance_to_Shore   Exposure  \\\n0      Eastern Indo-Pacific  United States             105.68  Sheltered   \n1      Eastern Indo-Pacific  United States            6923.20    Exposed   \n2      Eastern Indo-Pacific  United States            6923.20    Exposed   \n3      Eastern Indo-Pacific  United States            6923.20    Exposed   \n4      Eastern Indo-Pacific  United States            6923.20    Exposed   \n...                     ...            ...                ...        ...   \n37442  Central Indo-Pacific      Indonesia               4.79  Sheltered   \n37443  Central Indo-Pacific      Indonesia              84.46  Sheltered   \n37444  Central Indo-Pacific      Indonesia             154.96  Sheltered   \n37445  Central Indo-Pacific      Indonesia             280.59  Sometimes   \n37446  Central Indo-Pacific      Indonesia             236.88  Sheltered   \n\n       Turbidity  ...  TSA_Maximum  TSA_Mean  TSA_Frequency  \\\n0       0.024500  ...        2.458   -0.7520           1.00   \n1       0.025100  ...        2.330   -0.8500           1.00   \n2       0.025100  ...        2.330   -0.8500           1.00   \n3       0.025100  ...        2.330   -0.8500           1.00   \n4       0.025100  ...        2.330   -0.8500           0.00   \n...          ...  ...          ...       ...            ...   \n37442   0.044287  ...        2.570   -0.9300           0.00   \n37443   0.037200  ...        2.760   -0.9500           3.00   \n37444   0.084900  ...        2.860   -1.0000           6.00   \n37445   0.044170  ...        2.860   -1.0000           6.00   \n37446   0.037200  ...        2.450   -0.9925           6.25   \n\n       TSA_Frequency_Standard_Deviation TSA_FrequencyMax  TSA_FrequencyMean  \\\n0                                 2.238            11.40                1.0   \n1                                 1.520             8.00                1.0   \n2                                 1.520             8.00                1.0   \n3                                 1.520             8.00                1.0   \n4                                 1.520             8.00                1.0   \n...                                 ...              ...                ...   \n37442                             2.230            11.00                1.0   \n37443                             2.000             8.00                1.0   \n37444                             1.750             8.00                1.0   \n37445                             1.750             8.00                1.0   \n37446                             1.890             8.75                1.0   \n\n      TSA_DHW  TSA_DHW_Standard_Deviation  TSA_DHWMax  TSA_DHWMean  \n0        0.00                      1.4280      9.5940       0.5640  \n1        0.00                      0.9600      8.0900       0.3400  \n2        0.00                      0.9600      8.0900       0.3400  \n3        1.57                      0.9600      8.0900       0.3400  \n4        0.00                      0.9600      8.0900       0.3400  \n...       ...                         ...         ...          ...  \n37442    0.00                      1.7700     23.6400       0.3900  \n37443    1.78                      1.4900      9.0000       0.6300  \n37444    5.47                      1.2900      8.0100       0.6500  \n37445    5.47                      1.2900      8.0100       0.6500  \n37446    7.10                      1.3525     10.6375       0.5975  \n\n[37447 rows x 51 columns]",
      "text/html": "<div>\n<style scoped>\n    .dataframe tbody tr th:only-of-type {\n        vertical-align: middle;\n    }\n\n    .dataframe tbody tr th {\n        vertical-align: top;\n    }\n\n    .dataframe thead th {\n        text-align: right;\n    }\n</style>\n<table border=\"1\" class=\"dataframe\">\n  <thead>\n    <tr style=\"text-align: right;\">\n      <th></th>\n      <th>Site_ID</th>\n      <th>Data_Source</th>\n      <th>Latitude_Degrees</th>\n      <th>Longitude_Degrees</th>\n      <th>Ocean_Name</th>\n      <th>Realm_Name</th>\n      <th>Country_Name</th>\n      <th>Distance_to_Shore</th>\n      <th>Exposure</th>\n      <th>Turbidity</th>\n      <th>...</th>\n      <th>TSA_Maximum</th>\n      <th>TSA_Mean</th>\n      <th>TSA_Frequency</th>\n      <th>TSA_Frequency_Standard_Deviation</th>\n      <th>TSA_FrequencyMax</th>\n      <th>TSA_FrequencyMean</th>\n      <th>TSA_DHW</th>\n      <th>TSA_DHW_Standard_Deviation</th>\n      <th>TSA_DHWMax</th>\n      <th>TSA_DHWMean</th>\n    </tr>\n  </thead>\n  <tbody>\n    <tr>\n      <th>0</th>\n      <td>1.0</td>\n      <td>Donner</td>\n      <td>-14.280000</td>\n      <td>-170.715000</td>\n      <td>Pacific</td>\n      <td>Eastern Indo-Pacific</td>\n      <td>United States</td>\n      <td>105.68</td>\n      <td>Sheltered</td>\n      <td>0.024500</td>\n      <td>...</td>\n      <td>2.458</td>\n      <td>-0.7520</td>\n      <td>1.00</td>\n      <td>2.238</td>\n      <td>11.40</td>\n      <td>1.0</td>\n      <td>0.00</td>\n      <td>1.4280</td>\n      <td>9.5940</td>\n      <td>0.5640</td>\n    </tr>\n    <tr>\n      <th>1</th>\n      <td>2.0</td>\n      <td>Donner</td>\n      <td>-14.330000</td>\n      <td>-170.500000</td>\n      <td>Pacific</td>\n      <td>Eastern Indo-Pacific</td>\n      <td>United States</td>\n      <td>6923.20</td>\n      <td>Exposed</td>\n      <td>0.025100</td>\n      <td>...</td>\n      <td>2.330</td>\n      <td>-0.8500</td>\n      <td>1.00</td>\n      <td>1.520</td>\n      <td>8.00</td>\n      <td>1.0</td>\n      <td>0.00</td>\n      <td>0.9600</td>\n      <td>8.0900</td>\n      <td>0.3400</td>\n    </tr>\n    <tr>\n      <th>2</th>\n      <td>2.0</td>\n      <td>Donner</td>\n      <td>-14.330000</td>\n      <td>-170.500000</td>\n      <td>Pacific</td>\n      <td>Eastern Indo-Pacific</td>\n      <td>United States</td>\n      <td>6923.20</td>\n      <td>Exposed</td>\n      <td>0.025100</td>\n      <td>...</td>\n      <td>2.330</td>\n      <td>-0.8500</td>\n      <td>1.00</td>\n      <td>1.520</td>\n      <td>8.00</td>\n      <td>1.0</td>\n      <td>0.00</td>\n      <td>0.9600</td>\n      <td>8.0900</td>\n      <td>0.3400</td>\n    </tr>\n    <tr>\n      <th>3</th>\n      <td>2.0</td>\n      <td>Donner</td>\n      <td>-14.330000</td>\n      <td>-170.500000</td>\n      <td>Pacific</td>\n      <td>Eastern Indo-Pacific</td>\n      <td>United States</td>\n      <td>6923.20</td>\n      <td>Exposed</td>\n      <td>0.025100</td>\n      <td>...</td>\n      <td>2.330</td>\n      <td>-0.8500</td>\n      <td>1.00</td>\n      <td>1.520</td>\n      <td>8.00</td>\n      <td>1.0</td>\n      <td>1.57</td>\n      <td>0.9600</td>\n      <td>8.0900</td>\n      <td>0.3400</td>\n    </tr>\n    <tr>\n      <th>4</th>\n      <td>2.0</td>\n      <td>Donner</td>\n      <td>-14.330000</td>\n      <td>-170.500000</td>\n      <td>Pacific</td>\n      <td>Eastern Indo-Pacific</td>\n      <td>United States</td>\n      <td>6923.20</td>\n      <td>Exposed</td>\n      <td>0.025100</td>\n      <td>...</td>\n      <td>2.330</td>\n      <td>-0.8500</td>\n      <td>0.00</td>\n      <td>1.520</td>\n      <td>8.00</td>\n      <td>1.0</td>\n      <td>0.00</td>\n      <td>0.9600</td>\n      <td>8.0900</td>\n      <td>0.3400</td>\n    </tr>\n    <tr>\n      <th>...</th>\n      <td>...</td>\n      <td>...</td>\n      <td>...</td>\n      <td>...</td>\n      <td>...</td>\n      <td>...</td>\n      <td>...</td>\n      <td>...</td>\n      <td>...</td>\n      <td>...</td>\n      <td>...</td>\n      <td>...</td>\n      <td>...</td>\n      <td>...</td>\n      <td>...</td>\n      <td>...</td>\n      <td>...</td>\n      <td>...</td>\n      <td>...</td>\n      <td>...</td>\n      <td>...</td>\n    </tr>\n    <tr>\n      <th>37442</th>\n      <td>1000056.0</td>\n      <td>Nuryana</td>\n      <td>-8.276040</td>\n      <td>115.593200</td>\n      <td>Indian</td>\n      <td>Central Indo-Pacific</td>\n      <td>Indonesia</td>\n      <td>4.79</td>\n      <td>Sheltered</td>\n      <td>0.044287</td>\n      <td>...</td>\n      <td>2.570</td>\n      <td>-0.9300</td>\n      <td>0.00</td>\n      <td>2.230</td>\n      <td>11.00</td>\n      <td>1.0</td>\n      <td>0.00</td>\n      <td>1.7700</td>\n      <td>23.6400</td>\n      <td>0.3900</td>\n    </tr>\n    <tr>\n      <th>37443</th>\n      <td>1000057.0</td>\n      <td>Setiawan</td>\n      <td>-8.362170</td>\n      <td>116.088210</td>\n      <td>Pacific</td>\n      <td>Central Indo-Pacific</td>\n      <td>Indonesia</td>\n      <td>84.46</td>\n      <td>Sheltered</td>\n      <td>0.037200</td>\n      <td>...</td>\n      <td>2.760</td>\n      <td>-0.9500</td>\n      <td>3.00</td>\n      <td>2.000</td>\n      <td>8.00</td>\n      <td>1.0</td>\n      <td>1.78</td>\n      <td>1.4900</td>\n      <td>9.0000</td>\n      <td>0.6300</td>\n    </tr>\n    <tr>\n      <th>37444</th>\n      <td>1000058.0</td>\n      <td>Setiawan</td>\n      <td>-8.343690</td>\n      <td>116.050590</td>\n      <td>Pacific</td>\n      <td>Central Indo-Pacific</td>\n      <td>Indonesia</td>\n      <td>154.96</td>\n      <td>Sheltered</td>\n      <td>0.084900</td>\n      <td>...</td>\n      <td>2.860</td>\n      <td>-1.0000</td>\n      <td>6.00</td>\n      <td>1.750</td>\n      <td>8.00</td>\n      <td>1.0</td>\n      <td>5.47</td>\n      <td>1.2900</td>\n      <td>8.0100</td>\n      <td>0.6500</td>\n    </tr>\n    <tr>\n      <th>37445</th>\n      <td>1000059.0</td>\n      <td>Setiawan</td>\n      <td>-8.362521</td>\n      <td>116.031430</td>\n      <td>Pacific</td>\n      <td>Central Indo-Pacific</td>\n      <td>Indonesia</td>\n      <td>280.59</td>\n      <td>Sometimes</td>\n      <td>0.044170</td>\n      <td>...</td>\n      <td>2.860</td>\n      <td>-1.0000</td>\n      <td>6.00</td>\n      <td>1.750</td>\n      <td>8.00</td>\n      <td>1.0</td>\n      <td>5.47</td>\n      <td>1.2900</td>\n      <td>8.0100</td>\n      <td>0.6500</td>\n    </tr>\n    <tr>\n      <th>37446</th>\n      <td>1000060.0</td>\n      <td>Setiawan</td>\n      <td>-8.357130</td>\n      <td>116.123989</td>\n      <td>Pacific</td>\n      <td>Central Indo-Pacific</td>\n      <td>Indonesia</td>\n      <td>236.88</td>\n      <td>Sheltered</td>\n      <td>0.037200</td>\n      <td>...</td>\n      <td>2.450</td>\n      <td>-0.9925</td>\n      <td>6.25</td>\n      <td>1.890</td>\n      <td>8.75</td>\n      <td>1.0</td>\n      <td>7.10</td>\n      <td>1.3525</td>\n      <td>10.6375</td>\n      <td>0.5975</td>\n    </tr>\n  </tbody>\n</table>\n<p>37447 rows × 51 columns</p>\n</div>"
     },
     "execution_count": 44,
     "metadata": {},
     "output_type": "execute_result"
    }
   ],
   "source": [
    "\n",
    "# impute missing values\n",
    "original_df = df.copy()\n",
    "impute_missing_values(original_df)\n"
   ],
   "metadata": {
    "collapsed": false,
    "ExecuteTime": {
     "start_time": "2023-04-24T08:23:56.515391Z",
     "end_time": "2023-04-24T09:33:59.799953Z"
    }
   }
  },
  {
   "cell_type": "code",
   "execution_count": null,
   "outputs": [],
   "source": [],
   "metadata": {
    "collapsed": false,
    "ExecuteTime": {
     "start_time": "2023-04-24T00:39:49.859921Z",
     "end_time": "2023-04-24T00:39:49.862665Z"
    }
   }
  }
 ],
 "metadata": {
  "kernelspec": {
   "display_name": "Python 3",
   "language": "python",
   "name": "python3"
  },
  "language_info": {
   "codemirror_mode": {
    "name": "ipython",
    "version": 2
   },
   "file_extension": ".py",
   "mimetype": "text/x-python",
   "name": "python",
   "nbconvert_exporter": "python",
   "pygments_lexer": "ipython2",
   "version": "2.7.6"
  }
 },
 "nbformat": 4,
 "nbformat_minor": 0
}
